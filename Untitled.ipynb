{
 "cells": [
  {
   "cell_type": "markdown",
   "id": "991b5b19-9ec5-49f0-912a-1f03df898b55",
   "metadata": {},
   "source": [
    "Will this make tello work? Who knows, but we're about to find out."
   ]
  },
  {
   "cell_type": "markdown",
   "id": "8d9fb5c8-9dca-4e69-aece-c8fbcb8cc9d1",
   "metadata": {},
   "source": [
    "this is copy of the tello-python stats.py "
   ]
  },
  {
   "cell_type": "markdown",
   "id": "5b9309b1-6936-411f-88eb-f79732bde15a",
   "metadata": {},
   "source": [
    "As far as I can tell this is to debug it."
   ]
  },
  {
   "cell_type": "code",
   "execution_count": null,
   "id": "44ea976d-7612-4216-8a92-cf8e1a2adb31",
   "metadata": {},
   "outputs": [],
   "source": [
    "from datetime import datetime\n",
    "\n",
    "class Stats:\n",
    "    def __init__(self, command, id):\n",
    "        self.command = command\n",
    "        self.response = None\n",
    "        self.id = id\n",
    "\n",
    "        self.start_time = datetime.now()\n",
    "        self.end_time = None\n",
    "        self.duration = None\n",
    "\n",
    "    def add_response(self, response):\n",
    "        self.response = response\n",
    "        self.end_time = datetime.now()\n",
    "        self.duration = self.get_duration()\n",
    "        # self.print_stats()\n",
    "\n",
    "    def get_duration(self):\n",
    "        diff = self.end_time - self.start_time\n",
    "        return diff.total_seconds()\n",
    "\n",
    "    def print_stats(self):\n",
    "        print '\\nid: %s' % self.id\n",
    "        print 'command: %s' % self.command\n",
    "        print 'response: %s' % self.response\n",
    "        print 'start time: %s' % self.start_time\n",
    "        print 'end_time: %s' % self.end_time\n",
    "        print 'duration: %s\\n' % self.duration\n",
    "\n",
    "    def got_response(self):\n",
    "        if self.response is None:\n",
    "            return False\n",
    "        else:\n",
    "            return True\n",
    "\n",
    "    def return_stats(self):\n",
    "        str = ''\n",
    "        str +=  '\\nid: %s\\n' % self.id\n",
    "        str += 'command: %s\\n' % self.command\n",
    "        str += 'response: %s\\n' % self.response\n",
    "        str += 'start time: %s\\n' % self.start_time\n",
    "        str += 'end_time: %s\\n' % self.end_time\n",
    "        str += 'duration: %s\\n' % self.duration\n",
    "        return str"
   ]
  }
 ],
 "metadata": {
  "kernelspec": {
   "display_name": "Python 3 (ipykernel)",
   "language": "python",
   "name": "python3"
  },
  "language_info": {
   "codemirror_mode": {
    "name": "ipython",
    "version": 3
   },
   "file_extension": ".py",
   "mimetype": "text/x-python",
   "name": "python",
   "nbconvert_exporter": "python",
   "pygments_lexer": "ipython3",
   "version": "3.12.4"
  }
 },
 "nbformat": 4,
 "nbformat_minor": 5
}
